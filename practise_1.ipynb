{
  "cells": [
    {
      "cell_type": "markdown",
      "metadata": {
        "id": "view-in-github",
        "colab_type": "text"
      },
      "source": [
        "<a href=\"https://colab.research.google.com/github/Abdul-Ahad2/Abdul-Ahad2/blob/main/practise_1.ipynb\" target=\"_parent\"><img src=\"https://colab.research.google.com/assets/colab-badge.svg\" alt=\"Open In Colab\"/></a>"
      ]
    },
    {
      "cell_type": "markdown",
      "metadata": {
        "id": "5VOyGHdP-uP_"
      },
      "source": [
        "# Lecture#1\n",
        "**python basics**\n"
      ]
    },
    {
      "cell_type": "code",
      "execution_count": null,
      "metadata": {
        "colab": {
          "base_uri": "https://localhost:8080/"
        },
        "id": "6XqbtbbK-nGE",
        "outputId": "5b114d12-cea9-4618-d035-ca366d2be992"
      },
      "outputs": [
        {
          "name": "stdout",
          "output_type": "stream",
          "text": [
            "Abdul Ahad\n",
            "I'm expert of AI\n"
          ]
        }
      ],
      "source": [
        "print(\"Abdul Ahad\")\n",
        "print(\"I'm expert of AI\")"
      ]
    },
    {
      "cell_type": "markdown",
      "metadata": {
        "id": "KilTOuW_AL25"
      },
      "source": [
        "**Python Comments**\n",
        "\n",
        "Comments can be used to explain Python code.\n",
        "\n",
        "*   Comments can be used to make the code more readable.\n",
        "Comments can be used to prevent execution when testing code."
      ]
    },
    {
      "cell_type": "markdown",
      "metadata": {
        "id": "ZnqcaCy-AnuA"
      },
      "source": [
        "**Creating a Comment**\n",
        "Comments starts with a #, and Python will ignore them:"
      ]
    },
    {
      "cell_type": "code",
      "execution_count": null,
      "metadata": {
        "colab": {
          "base_uri": "https://localhost:8080/"
        },
        "id": "BqiSXN4N_xNB",
        "outputId": "f364f9e7-da91-45b0-91e4-17459f63db6b"
      },
      "outputs": [
        {
          "name": "stdout",
          "output_type": "stream",
          "text": [
            "comment\n"
          ]
        }
      ],
      "source": [
        "####### This is AI comment\n",
        "print (\"comment\")"
      ]
    },
    {
      "cell_type": "markdown",
      "metadata": {
        "id": "m5S6i57HCseE"
      },
      "source": [
        "**Variables**\n",
        "Variables are containers for storing data values.\n",
        "\n"
      ]
    },
    {
      "cell_type": "markdown",
      "metadata": {
        "id": "xMoKZBPdDEOM"
      },
      "source": [
        "**Creating Variables**\n",
        "\n",
        "1.   Python has no command for declaring a variable.\n",
        "\n",
        "2.   A variable is created the moment you first assign a value to it."
      ]
    },
    {
      "cell_type": "code",
      "execution_count": null,
      "metadata": {
        "colab": {
          "base_uri": "https://localhost:8080/"
        },
        "id": "dRJwtGlsC3Nq",
        "outputId": "94badfd3-aa8f-40d1-f3c0-23be5d574b61"
      },
      "outputs": [
        {
          "name": "stdout",
          "output_type": "stream",
          "text": [
            "ahad\n",
            " I'm a teacher of no one\n",
            "ahad I'm a teacher of no one\n"
          ]
        }
      ],
      "source": [
        "x = \"ahad\"\n",
        "y = \" I'm a teacher of no one\"\n",
        "z= x+y\n",
        "print(x)\n",
        "print(y)\n",
        "print(x+y)"
      ]
    },
    {
      "cell_type": "markdown",
      "metadata": {
        "id": "LRNC3WcPEzAR"
      },
      "source": [
        "# **Casting**\n",
        "If you want to specify the data type of a variable, this can be done with casting."
      ]
    },
    {
      "cell_type": "code",
      "execution_count": null,
      "metadata": {
        "colab": {
          "base_uri": "https://localhost:8080/"
        },
        "id": "s0TqHLFFD3n_",
        "outputId": "459c4bd3-0068-4c12-f700-6f87d17beeef"
      },
      "outputs": [
        {
          "name": "stdout",
          "output_type": "stream",
          "text": [
            "ahad\n",
            "2\n",
            "1.0\n"
          ]
        }
      ],
      "source": [
        "x = str(\"ahad\")    # x will be '3'\n",
        "y = int(2)    # y will be 3\n",
        "z = float(1)  # z will be 3.0\n",
        "print(x)\n",
        "print(y)\n",
        "print(z)"
      ]
    },
    {
      "cell_type": "markdown",
      "metadata": {
        "id": "b6u0EfEGFYQV"
      },
      "source": [
        "# **Get the Type**\n",
        "\n",
        "You can get the data type of a variable with the **type()** function."
      ]
    },
    {
      "cell_type": "code",
      "execution_count": null,
      "metadata": {
        "colab": {
          "base_uri": "https://localhost:8080/"
        },
        "id": "yNgPdafkFqxN",
        "outputId": "9b8c5c12-3650-4c35-e0bd-0bc7abd00279"
      },
      "outputs": [
        {
          "name": "stdout",
          "output_type": "stream",
          "text": [
            "<class 'float'>\n",
            "<class 'str'>\n"
          ]
        }
      ],
      "source": [
        "x = 10.2\n",
        "y = \"ahad\"\n",
        "print(type(x))\n",
        "print(type(y))"
      ]
    },
    {
      "cell_type": "markdown",
      "metadata": {
        "id": "1GeyWhiLG6sg"
      },
      "source": [
        "# **Case-Sensitive**\n",
        "Variable names are case-sensitive."
      ]
    },
    {
      "cell_type": "code",
      "execution_count": null,
      "metadata": {
        "colab": {
          "base_uri": "https://localhost:8080/"
        },
        "id": "2uzBAoQFF5HZ",
        "outputId": "c413a767-c263-480a-e84b-82e530630b3b"
      },
      "outputs": [
        {
          "name": "stdout",
          "output_type": "stream",
          "text": [
            "20\n",
            "usman\n"
          ]
        }
      ],
      "source": [
        "a = 20\n",
        "A = \"usman\"\n",
        "print(20)\n",
        "print('usman')\n"
      ]
    },
    {
      "cell_type": "markdown",
      "metadata": {
        "id": "JYwkgwC_H3UA"
      },
      "source": [
        "# **Variable Names**\n",
        "**Rules for Python variables:**\n",
        "A variable name must start with a letter or the underscore character\n",
        "\n",
        "\n",
        "\n",
        "1.  A variable name must start with a letter or the underscore character\n",
        "\n",
        "1.   A variable name cannot start with a number\n",
        "\n",
        "1. A variable name can only contain alpha-numeric characters and underscores (A-z, 0-9, and _ )\n",
        "\n",
        "1.   Variable names are case-sensitive (age, Age and AGE are three different variables)\n",
        "2.   A variable name cannot be any of the Python keywords.\n"
      ]
    },
    {
      "cell_type": "code",
      "execution_count": null,
      "metadata": {
        "id": "9pGcVA0vI40n"
      },
      "outputs": [],
      "source": [
        "#Legal variable names:\n",
        "myvar = \"ali\"\n",
        "my_var = \"ahemd\"\n",
        "_my_var = \"bhai\"\n",
        "myVar = \"usman\"\n",
        "MYVAR = \"ahad\"\n",
        "myvar2 = \"ali2\""
      ]
    },
    {
      "cell_type": "code",
      "execution_count": null,
      "metadata": {
        "colab": {
          "base_uri": "https://localhost:8080/",
          "height": 106
        },
        "id": "3jGRM5BrJJPa",
        "outputId": "e5f592b7-bb39-45b8-9c1a-9cfef800474f"
      },
      "outputs": [
        {
          "ename": "SyntaxError",
          "evalue": "invalid decimal literal (<ipython-input-38-2e3489f6a2b6>, line 2)",
          "output_type": "error",
          "traceback": [
            "\u001b[0;36m  File \u001b[0;32m\"<ipython-input-38-2e3489f6a2b6>\"\u001b[0;36m, line \u001b[0;32m2\u001b[0m\n\u001b[0;31m    2myvar = \"John\"\u001b[0m\n\u001b[0m    ^\u001b[0m\n\u001b[0;31mSyntaxError\u001b[0m\u001b[0;31m:\u001b[0m invalid decimal literal\n"
          ]
        }
      ],
      "source": [
        "#Illegal variable names:\n",
        "2myvar = \"Ahad\"\n",
        "my-var = \"Ahad\"\n",
        "my var = \"Ahad\""
      ]
    },
    {
      "cell_type": "markdown",
      "metadata": {
        "id": "cU2wP8zQNOzT"
      },
      "source": [
        "# **Many Values to Multiple Variables**\n",
        "Python allows you to assign values to multiple variables in one line:"
      ]
    },
    {
      "cell_type": "code",
      "execution_count": null,
      "metadata": {
        "colab": {
          "base_uri": "https://localhost:8080/"
        },
        "id": "oA-e1XlOJVL0",
        "outputId": "550613d4-c0b3-43dc-ce6d-06f60a21a5bd"
      },
      "outputs": [
        {
          "name": "stdout",
          "output_type": "stream",
          "text": [
            "apple\n",
            "banana\n",
            "strawberry\n"
          ]
        }
      ],
      "source": [
        "x, y, z = \"apple\", \"banana\", \"strawberry\"\n",
        "print(x)\n",
        "print(y)\n",
        "print(z)"
      ]
    },
    {
      "cell_type": "markdown",
      "metadata": {
        "id": "Mvk5kpR_NzIL"
      },
      "source": [
        "# **One Value to Multiple Variables**\n",
        "And you can assign the same value to multiple variables in one line:"
      ]
    },
    {
      "cell_type": "code",
      "execution_count": null,
      "metadata": {
        "colab": {
          "base_uri": "https://localhost:8080/"
        },
        "id": "0qpEqIHnN5v4",
        "outputId": "6b14356a-5228-46f0-a747-e588cf6b2ae9"
      },
      "outputs": [
        {
          "name": "stdout",
          "output_type": "stream",
          "text": [
            "apple\n",
            "apple\n",
            "apple\n"
          ]
        }
      ],
      "source": [
        "x = y = z = \"apple\"\n",
        "print(x)\n",
        "print(y)\n",
        "print(z)"
      ]
    },
    {
      "cell_type": "markdown",
      "metadata": {
        "id": "AJSRkCJ8OKfq"
      },
      "source": [
        "# **Output Variables**\n",
        "The Python print() function is often used to output variables."
      ]
    },
    {
      "cell_type": "code",
      "execution_count": null,
      "metadata": {
        "colab": {
          "base_uri": "https://localhost:8080/"
        },
        "id": "JHqZxAiIOOqZ",
        "outputId": "37b66144-ffcb-4647-a527-cf4e94e55c03"
      },
      "outputs": [
        {
          "name": "stdout",
          "output_type": "stream",
          "text": [
            "GR\n"
          ]
        }
      ],
      "source": [
        "x = \"GR\"\n",
        "print(x)"
      ]
    },
    {
      "cell_type": "markdown",
      "metadata": {
        "id": "gKkLukwOOnHi"
      },
      "source": [
        "# **Global Variables**\n",
        "\n",
        "1.   Variables that are created outside of a function  are known as global\n",
        "2.    Global variables can be used by everyone, both inside of functions and outside"
      ]
    },
    {
      "cell_type": "code",
      "execution_count": null,
      "metadata": {
        "colab": {
          "base_uri": "https://localhost:8080/"
        },
        "id": "wIPzYjDHPIXk",
        "outputId": "44514ff2-6152-4035-94f5-a86c431b8081"
      },
      "outputs": [
        {
          "name": "stdout",
          "output_type": "stream",
          "text": [
            "Python is very awesome\n"
          ]
        }
      ],
      "source": [
        "#Example 1\n",
        "#Create a variable outside of a function, and use it inside the function\n",
        "x = \"very awesome\"\n",
        "\n",
        "def myfunc():\n",
        "  print(\"Python is \" + x)\n",
        "\n",
        "myfunc()"
      ]
    },
    {
      "cell_type": "markdown",
      "metadata": {
        "id": "_TqLZ_SYQpc_"
      },
      "source": [
        "![image.png](data:image/png;base64,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)"
      ]
    },
    {
      "cell_type": "markdown",
      "metadata": {
        "id": "Fx63hNd2dW_6"
      },
      "source": [
        "![image.png](data:image/png;base64,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)"
      ]
    },
    {
      "cell_type": "code",
      "execution_count": null,
      "metadata": {
        "colab": {
          "base_uri": "https://localhost:8080/"
        },
        "id": "lb9PQwAORfEq",
        "outputId": "950be759-daf2-4371-d2b3-0ba38c5d28c6"
      },
      "outputs": [
        {
          "name": "stdout",
          "output_type": "stream",
          "text": [
            "abdul ahad\n"
          ]
        }
      ],
      "source": [
        "dict = {\n",
        "  \"name\": \"abdul ahad\",\n",
        "  \"model\": \"cnn\",\n",
        "  \"year\": 1964\n",
        "}\n",
        "print(dict[\"name\"])  #You can access the items of a dictionary by referring to its key name, inside square brackets:"
      ]
    },
    {
      "cell_type": "markdown",
      "metadata": {
        "id": "0mfcGDq5fpra"
      },
      "source": [
        "# **Duplicates Not Allowed**\n",
        "Dictionaries cannot have two items with the same key:"
      ]
    },
    {
      "cell_type": "code",
      "execution_count": null,
      "metadata": {
        "colab": {
          "base_uri": "https://localhost:8080/"
        },
        "id": "jWkMQ4UwfstM",
        "outputId": "9d450403-5208-4c20-cef3-a1042cffea87"
      },
      "outputs": [
        {
          "name": "stdout",
          "output_type": "stream",
          "text": [
            "{'brand': 'Ford', 'model': 'toyota', 'year': 2020}\n"
          ]
        }
      ],
      "source": [
        "dict = {\n",
        "  \"brand\": \"Ford\",\n",
        "  \"model\": \"Mustang\",\n",
        "  \"model\": 'toyota',  #Duplicate values will overwrite existing values:\n",
        "  \"year\": 2020\n",
        "}\n",
        "print(dict)"
      ]
    },
    {
      "cell_type": "markdown",
      "metadata": {
        "id": "scalHkqggHxB"
      },
      "source": [
        "# **Dictionary Length**"
      ]
    },
    {
      "cell_type": "code",
      "execution_count": null,
      "metadata": {
        "colab": {
          "base_uri": "https://localhost:8080/"
        },
        "id": "G5mq1Hd2gHIY",
        "outputId": "a6a87a17-2540-4be8-875c-bcbd3f676cd4"
      },
      "outputs": [
        {
          "name": "stdout",
          "output_type": "stream",
          "text": [
            "2\n"
          ]
        }
      ],
      "source": [
        "dict = {\n",
        "  \"brand\": \"Ford\",\n",
        "  \"model\": \"Mustang\",\n",
        "\n",
        "}\n",
        "print(len(dict))"
      ]
    },
    {
      "cell_type": "markdown",
      "metadata": {
        "id": "x5h9oMp7hOQl"
      },
      "source": [
        "# **Change Values**\n",
        "You can change the value of a specific item by referring to its key name:"
      ]
    },
    {
      "cell_type": "code",
      "execution_count": null,
      "metadata": {
        "colab": {
          "base_uri": "https://localhost:8080/"
        },
        "id": "ul_FjmpnhcCN",
        "outputId": "d53594aa-f6f3-4f04-c419-9f53959983d0"
      },
      "outputs": [
        {
          "name": "stdout",
          "output_type": "stream",
          "text": [
            "{'brand': 'Ford', 'model': 'Mustang', 'year': 3012}\n"
          ]
        }
      ],
      "source": [
        "dict = {\n",
        "  \"brand\": \"Ford\",\n",
        "  \"model\": \"Mustang\",\n",
        "  \"year\": 1964\n",
        "}\n",
        "dict[\"year\"] = 3012  #Change the \"year\" to 2018:\n",
        "print(dict)\n"
      ]
    },
    {
      "cell_type": "markdown",
      "metadata": {
        "id": "eX1qLpHUinI6"
      },
      "source": [
        "# **Update Dictionary**\n",
        "\n",
        "The update() method will update the dictionary with the items from the given argument.\n",
        "\n",
        "The argument must be a dictionary, or an iterable object with key:value pairs.\n"
      ]
    },
    {
      "cell_type": "code",
      "execution_count": null,
      "metadata": {
        "colab": {
          "base_uri": "https://localhost:8080/"
        },
        "id": "7_6-s-SWjeBl",
        "outputId": "08d5af1a-73a8-4f19-e3ed-f334acead805"
      },
      "outputs": [
        {
          "name": "stdout",
          "output_type": "stream",
          "text": [
            "{'brand': 'Ford', 'model': 'Mustang', 'year': 2020}\n"
          ]
        }
      ],
      "source": [
        "#Update the \"year\" of the car by using the update() method:\n",
        "dict = {\n",
        "  \"brand\": \"Ford\",\n",
        "  \"model\": \"Mustang\",\n",
        "  \"year\": 1964\n",
        "}\n",
        "dict.update({\"year\": 2020})\n",
        "print(dict)"
      ]
    },
    {
      "cell_type": "markdown",
      "metadata": {
        "id": "AyRkXmw_lUkM"
      },
      "source": [
        "![image.png](data:image/png;base64,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)"
      ]
    },
    {
      "cell_type": "code",
      "execution_count": null,
      "metadata": {
        "colab": {
          "base_uri": "https://localhost:8080/"
        },
        "id": "4t7nKIlkleps",
        "outputId": "d40e350d-2da5-4b97-87de-98300a8b8ad1"
      },
      "outputs": [
        {
          "output_type": "stream",
          "name": "stdout",
          "text": [
            "b > a\n"
          ]
        }
      ],
      "source": [
        "#If statement:\n",
        "a = 111\n",
        "b = 200\n",
        "if b > a:\n",
        "  print(\"b > a\")"
      ]
    },
    {
      "cell_type": "code",
      "execution_count": null,
      "metadata": {
        "colab": {
          "base_uri": "https://localhost:8080/"
        },
        "id": "j4WpMUz5mdQT",
        "outputId": "63d2ad33-044e-41ef-ab32-39ce8e260b78"
      },
      "outputs": [
        {
          "output_type": "stream",
          "name": "stdout",
          "text": [
            "a > b\n"
          ]
        }
      ],
      "source": [
        "#Elif\n",
        "#The elif keyword is Python's way of saying \"if the previous conditions were not true, then try this condition\"\n",
        "#In this example a is greater than b, so the first condition is not true, also the elif condition is not true, so we go to the else condition and print to screen that \"a is greater than b\".\n",
        "a = 200\n",
        "b = 100\n",
        "if b > a:\n",
        "  print(\"b > a\")\n",
        "elif a == b:\n",
        "  print(\"a = b\")\n",
        "else:\n",
        "  print(\"a > b\")"
      ]
    },
    {
      "cell_type": "markdown",
      "metadata": {
        "id": "VAsSRQg3nfw0"
      },
      "source": [
        "You can also have an else without the elif:"
      ]
    },
    {
      "cell_type": "code",
      "execution_count": null,
      "metadata": {
        "colab": {
          "base_uri": "https://localhost:8080/"
        },
        "id": "Wd1b_DOdng-2",
        "outputId": "6f6e73e9-8900-4e2d-d992-4e4d6a390dbd"
      },
      "outputs": [
        {
          "output_type": "stream",
          "name": "stdout",
          "text": [
            "b < a\n"
          ]
        }
      ],
      "source": [
        "a = 200\n",
        "b = 100\n",
        "if b > a:\n",
        "  print(\"b > a\")\n",
        "else:\n",
        "  print(\"b < a\")"
      ]
    },
    {
      "cell_type": "markdown",
      "metadata": {
        "id": "nj4nfdUpocWY"
      },
      "source": [
        "# **The while Loop**\n",
        "With the while loop we can execute a set of statements as long as a condition is true."
      ]
    },
    {
      "cell_type": "code",
      "execution_count": null,
      "metadata": {
        "colab": {
          "base_uri": "https://localhost:8080/"
        },
        "id": "FxMABMhUoexi",
        "outputId": "24060ebc-71ec-41f5-e812-672180bf3707"
      },
      "outputs": [
        {
          "output_type": "stream",
          "name": "stdout",
          "text": [
            "1\n",
            "2\n",
            "3\n",
            "4\n",
            "5\n",
            "6\n",
            "7\n",
            "8\n",
            "9\n"
          ]
        }
      ],
      "source": [
        "i = 1\n",
        "while i < 10:\n",
        "  print(i)\n",
        "  i += 1"
      ]
    },
    {
      "cell_type": "markdown",
      "metadata": {
        "id": "m7JhLKGmpWgK"
      },
      "source": [
        "# **For Loops**\n",
        "A for loop is used for iterating over a sequence (that is either a list, a tuple, a dictionary, a set, or a string)."
      ]
    },
    {
      "cell_type": "code",
      "execution_count": null,
      "metadata": {
        "colab": {
          "base_uri": "https://localhost:8080/"
        },
        "id": "wvi7kDwMpmF_",
        "outputId": "138acf93-efb0-4361-dcfd-a7a6527fb24d"
      },
      "outputs": [
        {
          "name": "stdout",
          "output_type": "stream",
          "text": [
            "apple\n",
            "banana\n",
            "cherry\n"
          ]
        }
      ],
      "source": [
        "fruits = [\"apple\", \"banana\", \"cherry\"]\n",
        "for x in fruits:\n",
        "  print(x)"
      ]
    },
    {
      "cell_type": "markdown",
      "metadata": {
        "id": "77IWODtEp1TY"
      },
      "source": [
        "# **Creating a Function**\n",
        "In Python a function is defined using the def keyword:"
      ]
    },
    {
      "cell_type": "code",
      "execution_count": null,
      "metadata": {
        "colab": {
          "base_uri": "https://localhost:8080/"
        },
        "id": "jCMx9pz-p3uO",
        "outputId": "87347608-ef3c-4d6b-a44f-7bd690e8e5b3"
      },
      "outputs": [
        {
          "output_type": "stream",
          "name": "stdout",
          "text": [
            "i am a function\n"
          ]
        }
      ],
      "source": [
        "def my_function():\n",
        "  print(\"i am a function\")\n",
        "\n",
        "my_function()  #To call a function, use the function name followed by parenthesis:"
      ]
    },
    {
      "cell_type": "markdown",
      "metadata": {
        "id": "1cJ0_akpvRAJ"
      },
      "source": [
        "# **Arguments**\n",
        "Information can be passed into functions as arguments."
      ]
    },
    {
      "cell_type": "code",
      "execution_count": null,
      "metadata": {
        "colab": {
          "base_uri": "https://localhost:8080/"
        },
        "id": "7qz5tKSSvTm0",
        "outputId": "251cc675-ab80-40e7-962d-3ae22d51fbb3"
      },
      "outputs": [
        {
          "output_type": "stream",
          "name": "stdout",
          "text": [
            "abdul ahad Khan\n",
            "Tobias Khan\n",
            "Linus Khan\n"
          ]
        }
      ],
      "source": [
        "def my_function(fname):\n",
        "  print(fname + \" Khan\")\n",
        "\n",
        "my_function('abdul ahad')\n",
        "my_function(\"Tobias\")\n",
        "my_function(\"Linus\")"
      ]
    },
    {
      "cell_type": "markdown",
      "metadata": {
        "id": "0TkxLaZgvndT"
      },
      "source": [
        "# **Default Parameter Value**\n",
        "If we call the function without argument, it uses the default value:"
      ]
    },
    {
      "cell_type": "code",
      "execution_count": null,
      "metadata": {
        "colab": {
          "base_uri": "https://localhost:8080/"
        },
        "id": "0Jig8WdVvuDJ",
        "outputId": "46e81997-33d7-4802-8b07-859c2f61293c"
      },
      "outputs": [
        {
          "output_type": "stream",
          "name": "stdout",
          "text": [
            "I am from Pakistan\n",
            "I am from India\n",
            "I am from India\n",
            "I am from Thailand\n"
          ]
        }
      ],
      "source": [
        "def my_function(country = \"India\"):\n",
        "  print(\"I am from \" + country)\n",
        "\n",
        "my_function(\"Pakistan\")\n",
        "my_function(\"India\")\n",
        "my_function()\n",
        "my_function(\"Thailand\")"
      ]
    },
    {
      "cell_type": "markdown",
      "metadata": {
        "id": "2Lf3xDcgwCCo"
      },
      "source": [
        "# **Return Values**\n",
        "To let a function return a value, use the return statement:"
      ]
    },
    {
      "cell_type": "code",
      "execution_count": null,
      "metadata": {
        "colab": {
          "base_uri": "https://localhost:8080/"
        },
        "id": "McLXQj_LwHh3",
        "outputId": "6047d22c-1922-4999-99cb-f3ffa72e38b7"
      },
      "outputs": [
        {
          "output_type": "stream",
          "name": "stdout",
          "text": [
            "30\n",
            "50\n",
            "90\n"
          ]
        }
      ],
      "source": [
        "def my_function(x):\n",
        "  return 10 * x\n",
        "\n",
        "print(my_function(3))\n",
        "print(my_function(5))\n",
        "print(my_function(9))"
      ]
    }
  ],
  "metadata": {
    "colab": {
      "provenance": [],
      "include_colab_link": true
    },
    "kernelspec": {
      "display_name": "Python 3",
      "name": "python3"
    },
    "language_info": {
      "codemirror_mode": {
        "name": "ipython",
        "version": 3
      },
      "file_extension": ".py",
      "mimetype": "text/x-python",
      "name": "python",
      "nbconvert_exporter": "python",
      "pygments_lexer": "ipython3",
      "version": "3.11.3"
    }
  },
  "nbformat": 4,
  "nbformat_minor": 0
}